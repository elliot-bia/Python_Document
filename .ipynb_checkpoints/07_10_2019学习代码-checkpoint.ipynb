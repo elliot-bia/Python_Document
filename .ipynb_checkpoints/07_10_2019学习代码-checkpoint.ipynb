{
 "cells": [
  {
   "cell_type": "markdown",
   "metadata": {},
   "source": [
    "# 自己写一个代码生成器"
   ]
  },
  {
   "cell_type": "code",
   "execution_count": 4,
   "metadata": {},
   "outputs": [
    {
     "data": {
      "text/plain": [
       "'`4F3za$g^!GMsSl'"
      ]
     },
     "execution_count": 4,
     "metadata": {},
     "output_type": "execute_result"
    }
   ],
   "source": [
    "import string\n",
    "import random\n",
    "\n",
    "count = 15\n",
    "str_from = string.ascii_letters + string.digits + string.punctuation\n",
    "\"\".join([random.choice(str_from) for _ in range(count)])"
   ]
  },
  {
   "cell_type": "code",
   "execution_count": 41,
   "metadata": {},
   "outputs": [
    {
     "name": "stdout",
     "output_type": "stream",
     "text": [
      "ry|Lx8_8(J\n"
     ]
    }
   ],
   "source": [
    "import string\n",
    "import random \n",
    "\n",
    "def random_pwd(count):\n",
    "    \"生成随机密码，位数=count\"\n",
    "    str_from = string.ascii_letters + string.digits + string.punctuation\n",
    "    return \"\".join([random.choice(str_from) for _ in range(count)])\n",
    "\n",
    "print(random_pwd(10))"
   ]
  },
  {
   "cell_type": "code",
   "execution_count": 45,
   "metadata": {},
   "outputs": [
    {
     "name": "stdout",
     "output_type": "stream",
     "text": [
      "['z', '-', '(', '7', 'k', '=', '\\\\', 'n', 'o', '8', '*', 'h', 's', '$', '=']\n"
     ]
    }
   ],
   "source": [
    "s = [random.choice(str_from) for _ in range(count)]\n",
    "print(s)"
   ]
  },
  {
   "cell_type": "code",
   "execution_count": 47,
   "metadata": {},
   "outputs": [
    {
     "name": "stdout",
     "output_type": "stream",
     "text": [
      "Help on list object:\n",
      "\n",
      "class list(object)\n",
      " |  list(iterable=(), /)\n",
      " |  \n",
      " |  Built-in mutable sequence.\n",
      " |  \n",
      " |  If no argument is given, the constructor creates a new empty list.\n",
      " |  The argument must be an iterable if specified.\n",
      " |  \n",
      " |  Methods defined here:\n",
      " |  \n",
      " |  __add__(self, value, /)\n",
      " |      Return self+value.\n",
      " |  \n",
      " |  __contains__(self, key, /)\n",
      " |      Return key in self.\n",
      " |  \n",
      " |  __delitem__(self, key, /)\n",
      " |      Delete self[key].\n",
      " |  \n",
      " |  __eq__(self, value, /)\n",
      " |      Return self==value.\n",
      " |  \n",
      " |  __ge__(self, value, /)\n",
      " |      Return self>=value.\n",
      " |  \n",
      " |  __getattribute__(self, name, /)\n",
      " |      Return getattr(self, name).\n",
      " |  \n",
      " |  __getitem__(...)\n",
      " |      x.__getitem__(y) <==> x[y]\n",
      " |  \n",
      " |  __gt__(self, value, /)\n",
      " |      Return self>value.\n",
      " |  \n",
      " |  __iadd__(self, value, /)\n",
      " |      Implement self+=value.\n",
      " |  \n",
      " |  __imul__(self, value, /)\n",
      " |      Implement self*=value.\n",
      " |  \n",
      " |  __init__(self, /, *args, **kwargs)\n",
      " |      Initialize self.  See help(type(self)) for accurate signature.\n",
      " |  \n",
      " |  __iter__(self, /)\n",
      " |      Implement iter(self).\n",
      " |  \n",
      " |  __le__(self, value, /)\n",
      " |      Return self<=value.\n",
      " |  \n",
      " |  __len__(self, /)\n",
      " |      Return len(self).\n",
      " |  \n",
      " |  __lt__(self, value, /)\n",
      " |      Return self<value.\n",
      " |  \n",
      " |  __mul__(self, value, /)\n",
      " |      Return self*value.\n",
      " |  \n",
      " |  __ne__(self, value, /)\n",
      " |      Return self!=value.\n",
      " |  \n",
      " |  __repr__(self, /)\n",
      " |      Return repr(self).\n",
      " |  \n",
      " |  __reversed__(self, /)\n",
      " |      Return a reverse iterator over the list.\n",
      " |  \n",
      " |  __rmul__(self, value, /)\n",
      " |      Return value*self.\n",
      " |  \n",
      " |  __setitem__(self, key, value, /)\n",
      " |      Set self[key] to value.\n",
      " |  \n",
      " |  __sizeof__(self, /)\n",
      " |      Return the size of the list in memory, in bytes.\n",
      " |  \n",
      " |  append(self, object, /)\n",
      " |      Append object to the end of the list.\n",
      " |  \n",
      " |  clear(self, /)\n",
      " |      Remove all items from list.\n",
      " |  \n",
      " |  copy(self, /)\n",
      " |      Return a shallow copy of the list.\n",
      " |  \n",
      " |  count(self, value, /)\n",
      " |      Return number of occurrences of value.\n",
      " |  \n",
      " |  extend(self, iterable, /)\n",
      " |      Extend list by appending elements from the iterable.\n",
      " |  \n",
      " |  index(self, value, start=0, stop=9223372036854775807, /)\n",
      " |      Return first index of value.\n",
      " |      \n",
      " |      Raises ValueError if the value is not present.\n",
      " |  \n",
      " |  insert(self, index, object, /)\n",
      " |      Insert object before index.\n",
      " |  \n",
      " |  pop(self, index=-1, /)\n",
      " |      Remove and return item at index (default last).\n",
      " |      \n",
      " |      Raises IndexError if list is empty or index is out of range.\n",
      " |  \n",
      " |  remove(self, value, /)\n",
      " |      Remove first occurrence of value.\n",
      " |      \n",
      " |      Raises ValueError if the value is not present.\n",
      " |  \n",
      " |  reverse(self, /)\n",
      " |      Reverse *IN PLACE*.\n",
      " |  \n",
      " |  sort(self, /, *, key=None, reverse=False)\n",
      " |      Stable sort *IN PLACE*.\n",
      " |  \n",
      " |  ----------------------------------------------------------------------\n",
      " |  Static methods defined here:\n",
      " |  \n",
      " |  __new__(*args, **kwargs) from builtins.type\n",
      " |      Create and return a new object.  See help(type) for accurate signature.\n",
      " |  \n",
      " |  ----------------------------------------------------------------------\n",
      " |  Data and other attributes defined here:\n",
      " |  \n",
      " |  __hash__ = None\n",
      "\n"
     ]
    }
   ],
   "source": [
    "help([])"
   ]
  },
  {
   "cell_type": "code",
   "execution_count": 39,
   "metadata": {},
   "outputs": [
    {
     "ename": "NameError",
     "evalue": "name 'join' is not defined",
     "output_type": "error",
     "traceback": [
      "\u001b[1;31m---------------------------------------------------------------------------\u001b[0m",
      "\u001b[1;31mNameError\u001b[0m                                 Traceback (most recent call last)",
      "\u001b[1;32m<ipython-input-39-66b24db8048c>\u001b[0m in \u001b[0;36m<module>\u001b[1;34m\u001b[0m\n\u001b[1;32m----> 1\u001b[1;33m \u001b[0mhelp\u001b[0m\u001b[1;33m(\u001b[0m\u001b[0mjoin\u001b[0m\u001b[1;33m)\u001b[0m\u001b[1;33m\u001b[0m\u001b[1;33m\u001b[0m\u001b[0m\n\u001b[0m",
      "\u001b[1;31mNameError\u001b[0m: name 'join' is not defined"
     ]
    }
   ],
   "source": [
    "help(join)"
   ]
  },
  {
   "cell_type": "code",
   "execution_count": 40,
   "metadata": {},
   "outputs": [
    {
     "name": "stdout",
     "output_type": "stream",
     "text": [
      "Help on method choice in module random:\n",
      "\n",
      "choice(seq) method of random.Random instance\n",
      "    Choose a random element from a non-empty sequence.\n",
      "\n"
     ]
    }
   ],
   "source": [
    "help(random.choice)"
   ]
  },
  {
   "cell_type": "code",
   "execution_count": 20,
   "metadata": {},
   "outputs": [
    {
     "name": "stdout",
     "output_type": "stream",
     "text": [
      "随机数：aaa\n"
     ]
    },
    {
     "data": {
      "text/plain": [
       "'YWFh'"
      ]
     },
     "execution_count": 20,
     "metadata": {},
     "output_type": "execute_result"
    }
   ],
   "source": [
    "import base64\n",
    "\n",
    "s = input('随机数：')\n",
    "ss = base64.b64encode(s.encode('utf-8'))\n",
    "ss.decode('utf-8')"
   ]
  },
  {
   "cell_type": "code",
   "execution_count": 27,
   "metadata": {},
   "outputs": [
    {
     "name": "stdout",
     "output_type": "stream",
     "text": [
      "Help on method_descriptor:\n",
      "\n",
      "join(self, iterable, /)\n",
      "    Concatenate any number of strings.\n",
      "    \n",
      "    The string whose method is called is inserted in between each given string.\n",
      "    The result is returned as a new string.\n",
      "    \n",
      "    Example: '.'.join(['ab', 'pq', 'rs']) -> 'ab.pq.rs'\n",
      "\n"
     ]
    }
   ],
   "source": [
    "help(str.join)"
   ]
  },
  {
   "cell_type": "code",
   "execution_count": 37,
   "metadata": {},
   "outputs": [
    {
     "name": "stdout",
     "output_type": "stream",
     "text": [
      "输入原始密码123\n",
      "生成密码： MTIzaa\n"
     ]
    }
   ],
   "source": [
    "import random\n",
    "import base64\n",
    "\n",
    "def custom_pwd(count=8):\n",
    "    \"\"\"用于生成固定长度的密码，\"\"\"\n",
    "    origin_pwd = input('输入原始密码')\n",
    "    new_pwd = base64.b64encode(origin_pwd.encode('utf-8'))\n",
    "    new_pwd = new_pwd.decode('utf-8')\n",
    "    if len(new_pwd) < count:\n",
    "        new_pwd = new_pwd.ljust(count,'a')\n",
    "        \n",
    "    return new_pwd\n",
    "\n",
    "print('生成密码：', custom_pwd(6))"
   ]
  },
  {
   "cell_type": "code",
   "execution_count": 34,
   "metadata": {},
   "outputs": [
    {
     "data": {
      "text/plain": [
       "'abbbbbbbbb'"
      ]
     },
     "execution_count": 34,
     "metadata": {},
     "output_type": "execute_result"
    }
   ],
   "source": [
    "'a'.ljust(10,'b')"
   ]
  },
  {
   "cell_type": "code",
   "execution_count": 35,
   "metadata": {},
   "outputs": [
    {
     "name": "stdout",
     "output_type": "stream",
     "text": [
      "Help on method_descriptor:\n",
      "\n",
      "ljust(self, width, fillchar=' ', /)\n",
      "    Return a left-justified string of length width.\n",
      "    \n",
      "    Padding is done using the specified fill character (default is a space).\n",
      "\n"
     ]
    }
   ],
   "source": [
    "help(str.ljust)"
   ]
  },
  {
   "cell_type": "code",
   "execution_count": 50,
   "metadata": {},
   "outputs": [
    {
     "name": "stdout",
     "output_type": "stream",
     "text": [
      "生成密码：12vdfasgqe\n",
      "密码为： MTJ2ZGZh\n",
      "密码10为： MTJ2ZGZhc2\n"
     ]
    }
   ],
   "source": [
    "# 函数只干一件事情\n",
    "\n",
    "import random\n",
    "import base64\n",
    "\n",
    "def custom_pwd(origin_pwd, count=8):\n",
    "    \"\"\"自定义生成密码，长度为8\"\"\"\n",
    "    new_pwd = base64.b64encode(origin_pwd.encode('utf-8'))\n",
    "    new_pwd = new_pwd.decode('utf-8')\n",
    "    if len(new_pwd) < count:\n",
    "        new_pwd = new_pwd.ljust(count, 'a')\n",
    "        \n",
    "    return new_pwd[:count]\n",
    "\n",
    "s = input('生成密码：')\n",
    "print('密码为：',custom_pwd(s))\n",
    "print('密码10为：',custom_pwd(s, 10))"
   ]
  },
  {
   "cell_type": "code",
   "execution_count": 54,
   "metadata": {},
   "outputs": [
    {
     "name": "stdout",
     "output_type": "stream",
     "text": [
      "after salt: YXNhbHQ=\n",
      "lower 8 YXNhbHQ=\n",
      "生成密码: hbHQ=aaaaaaaaaaaa\n"
     ]
    }
   ],
   "source": [
    "# 加盐，并且取其中代码段\n",
    "import random\n",
    "import base64\n",
    "\n",
    "def custom_pwd(origin_pwd, count=20, salt='salt', offset=3):\n",
    "    \"\"\"自定义密码，加入盐，取其中一段\"\"\"\n",
    "    new_pwd = base64.b64encode((origin_pwd + salt).encode('utf-8'))\n",
    "    new_pwd = new_pwd.decode('utf-8')\n",
    "    print('after salt:', new_pwd)\n",
    "    print('lower 8', new_pwd)\n",
    "    if len(new_pwd) < count:\n",
    "        new_pwd = new_pwd.ljust(count, 'a')\n",
    "        \n",
    "    return new_pwd[offset : count + offset]\n",
    "\n",
    "print('生成密码:', custom_pwd('a'))\n",
    "    "
   ]
  },
  {
   "cell_type": "code",
   "execution_count": 55,
   "metadata": {},
   "outputs": [
    {
     "name": "stdout",
     "output_type": "stream",
     "text": [
      "生成密码：jupyter\n",
      "after salt: anVweXRlcnNhbHQmdGxhcw==\n",
      "密码为： ok，找地方站贴吧\n"
     ]
    }
   ],
   "source": [
    "# 增加到粘贴到剪贴板上\n",
    "\n",
    "import random\n",
    "import base64\n",
    "import pyperclip\n",
    "\n",
    "def custom_pwd(origin_pwd, count=12, salt='salt&tlas', offset=3):\n",
    "    \"\"\"自定义生成密码，并粘贴到剪切板\"\"\"\n",
    "    new_pwd = base64.b64encode((origin_pwd + salt).encode('utf-8'))\n",
    "    new_pwd = new_pwd.decode('utf-8')\n",
    "    print('after salt:', new_pwd)\n",
    "    if len(new_pwd) < count:\n",
    "        new_pwd = new_pwd.ljust(count, 'a')\n",
    "    \n",
    "    pyperclip.copy(new_pwd[offset : count + offset])\n",
    "    return 'ok，找地方站贴吧'\n",
    "\n",
    "s = input('生成密码：')\n",
    "print('密码为：',custom_pwd(s))\n"
   ]
  },
  {
   "cell_type": "markdown",
   "metadata": {},
   "source": [
    "# 密码改进"
   ]
  },
  {
   "cell_type": "code",
   "execution_count": 57,
   "metadata": {},
   "outputs": [
    {
     "ename": "SyntaxError",
     "evalue": "invalid syntax (<ipython-input-57-d0eb7a66db90>, line 13)",
     "output_type": "error",
     "traceback": [
      "\u001b[1;36m  File \u001b[1;32m\"<ipython-input-57-d0eb7a66db90>\"\u001b[1;36m, line \u001b[1;32m13\u001b[0m\n\u001b[1;33m    origin_pwd = origin_pwd.ljust(count, random_str_from[])\u001b[0m\n\u001b[1;37m                                                         ^\u001b[0m\n\u001b[1;31mSyntaxError\u001b[0m\u001b[1;31m:\u001b[0m invalid syntax\n"
     ]
    }
   ],
   "source": [
    "import random\n",
    "import pyperclip\n",
    "\n",
    "\n",
    "random_str_from = string.ascii_letters + string.digits + string.punctuation\n",
    "def salt_generate(salt_num=5):\n",
    "    \"\"\"生成随机盐，并加在字符后面，初始设置为salt_num\"\"\"\n",
    "    return \"\".join([random.choice(random_str_from) for _ in range(salt_num)])\n",
    "\n",
    "\n",
    "def custom_pwd(origin_pwd, count=15, offset=3):\n",
    "    if len(origin_pwd) < count:\n",
    "        origin_pwd = origin_pwd.ljust(count, random_str_from)\n",
    "    new_pwd = base64.b64encode((origin_pwd + salt_generate()).encode('utf-8'))\n",
    "    new_pwd = new_pwd.decode('utf-8')\n",
    "    print('after salt:', new_pwd)\n",
    "    pyperclip.copy(new_pwd[offset : count + offset])\n",
    "    return 'ok，找地方站贴吧'\n",
    "\n",
    "s = input('生成密码：')\n",
    "print('密码为：',custom_pwd(s))\n",
    "\n"
   ]
  },
  {
   "cell_type": "code",
   "execution_count": 61,
   "metadata": {},
   "outputs": [
    {
     "name": "stdout",
     "output_type": "stream",
     "text": [
      "生成密码：fawefa\n",
      "after salt: ZmF3ZWZhYWFhYWFhYWFhUUN5ZiI=\n",
      "密码为： ok，找地方站贴吧\n"
     ]
    }
   ],
   "source": [
    "import random\n",
    "import pyperclip\n",
    "\n",
    "\n",
    "random_str_from = string.ascii_letters + string.digits + string.punctuation\n",
    "def salt_generate(salt_num=5):\n",
    "    \"\"\"生成随机盐，并加在字符后面，初始设置为salt_num\"\"\"\n",
    "    return \"\".join([random.choice(random_str_from) for _ in range(salt_num)])\n",
    "\n",
    "\n",
    "def custom_pwd(origin_pwd, count=15, offset=3):\n",
    "    if len(origin_pwd) < count:\n",
    "        origin_pwd = origin_pwd.ljust(count, 'a')\n",
    "    new_pwd = base64.b64encode((origin_pwd + salt_generate()).encode('utf-8'))\n",
    "    new_pwd = new_pwd.decode('utf-8')\n",
    "    print('after salt:', new_pwd)\n",
    "    pyperclip.copy(new_pwd[offset : count + offset])\n",
    "    return 'ok，找地方站贴吧'\n",
    "\n",
    "s = input('生成密码：')\n",
    "print('密码为：',custom_pwd(s))\n"
   ]
  },
  {
   "cell_type": "code",
   "execution_count": null,
   "metadata": {},
   "outputs": [],
   "source": [
    "3ZWZhYWFhYWFhYW"
   ]
  }
 ],
 "metadata": {
  "kernelspec": {
   "display_name": "Python 3",
   "language": "python",
   "name": "python3"
  },
  "language_info": {
   "codemirror_mode": {
    "name": "ipython",
    "version": 3
   },
   "file_extension": ".py",
   "mimetype": "text/x-python",
   "name": "python",
   "nbconvert_exporter": "python",
   "pygments_lexer": "ipython3",
   "version": "3.7.1"
  }
 },
 "nbformat": 4,
 "nbformat_minor": 2
}
