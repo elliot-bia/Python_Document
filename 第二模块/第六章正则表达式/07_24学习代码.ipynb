{
 "cells": [
  {
   "cell_type": "code",
   "execution_count": 4,
   "metadata": {},
   "outputs": [
    {
     "data": {
      "text/plain": [
       "['有3人', '有4人', '有3人', '有5人']"
      ]
     },
     "execution_count": 4,
     "metadata": {},
     "output_type": "execute_result"
    }
   ],
   "source": [
    "data = '''\n",
    "* 4.1日, 共有3人面试, 手机号分别是13078119990, 13078119990, 13078119990\n",
    "* 4.2日, 共有4人面试, 手机号分别是13078119990, 13078119990, 13078119990\n",
    "* 4.1日, 共有3人面试, 手机号分别是13078119990, 13078119990, 13078119990\n",
    "* 4.1日, 共有5人面试, 手机号分别是13078119990, 13078119990, 13078119990\n",
    "'''\n",
    "import re \n",
    "re_people = re.compile(r'有\\d+人')\n",
    "re_people.findall(data)"
   ]
  },
  {
   "cell_type": "code",
   "execution_count": 5,
   "metadata": {},
   "outputs": [
    {
     "data": {
      "text/plain": [
       "['3', '4', '3', '5']"
      ]
     },
     "execution_count": 5,
     "metadata": {},
     "output_type": "execute_result"
    }
   ],
   "source": [
    "re_people = re.compile(r'有(\\d+)人')\n",
    "re_people.findall(data)"
   ]
  },
  {
   "cell_type": "code",
   "execution_count": 3,
   "metadata": {},
   "outputs": [
    {
     "name": "stdout",
     "output_type": "stream",
     "text": [
      "共15人\n"
     ]
    }
   ],
   "source": [
    "re_people = re.compile(r'有(\\d+)人')\n",
    "count = 0\n",
    "for x in re_people.findall(data):\n",
    "    count += int(x)\n",
    "print(f'共{count}人')"
   ]
  },
  {
   "cell_type": "code",
   "execution_count": 6,
   "metadata": {},
   "outputs": [
    {
     "data": {
      "text/plain": [
       "['3', '4', '3', '5']"
      ]
     },
     "execution_count": 6,
     "metadata": {},
     "output_type": "execute_result"
    }
   ],
   "source": [
    "[x for x in re_people.findall(data)]"
   ]
  },
  {
   "cell_type": "code",
   "execution_count": 7,
   "metadata": {},
   "outputs": [
    {
     "data": {
      "text/plain": [
       "[3, 4, 3, 5]"
      ]
     },
     "execution_count": 7,
     "metadata": {},
     "output_type": "execute_result"
    }
   ],
   "source": [
    "[int(x) for x in re_people.findall(data)]"
   ]
  },
  {
   "cell_type": "code",
   "execution_count": 8,
   "metadata": {},
   "outputs": [
    {
     "name": "stdout",
     "output_type": "stream",
     "text": [
      "共15人\n"
     ]
    }
   ],
   "source": [
    "re_people = re.compile(r'有(\\d+)人')\n",
    "count = sum(int(x) for x in re_people.findall(data))\n",
    "print(f'共{count}人')"
   ]
  },
  {
   "cell_type": "code",
   "execution_count": 10,
   "metadata": {},
   "outputs": [
    {
     "data": {
      "text/plain": [
       "['13078119990', '13078119990', '13078119990']"
      ]
     },
     "execution_count": 10,
     "metadata": {},
     "output_type": "execute_result"
    }
   ],
   "source": [
    "re_phone = re.compile(r'1\\d{10}')\n",
    "re_phone.findall(data)[:3]"
   ]
  },
  {
   "cell_type": "markdown",
   "metadata": {},
   "source": [
    "# 新需求: 替换日期"
   ]
  },
  {
   "cell_type": "code",
   "execution_count": 11,
   "metadata": {},
   "outputs": [
    {
     "data": {
      "text/plain": [
       "['1.1', '1.2', '1.3', '1.4', '123', '1.5']"
      ]
     },
     "execution_count": 11,
     "metadata": {},
     "output_type": "execute_result"
    }
   ],
   "source": [
    "memo_text = '''\n",
    "1.1 去干嘛\n",
    "1.2 又去干嘛2\n",
    "1.3 还去干嘛3\n",
    "1.4 不知道该干嘛4fe1234\n",
    "1.5 太多了,不干了5\n",
    "'''\n",
    "re_date = re.compile(r'\\d.\\d')\n",
    "re_date.findall(memo_text)"
   ]
  },
  {
   "cell_type": "code",
   "execution_count": 15,
   "metadata": {},
   "outputs": [
    {
     "data": {
      "text/plain": [
       "[('1', '1'), ('1', '2'), ('1', '3'), ('1', '4'), ('1', '5')]"
      ]
     },
     "execution_count": 15,
     "metadata": {},
     "output_type": "execute_result"
    }
   ],
   "source": [
    "# re_date = re.compile(r'\\d\\.\\d')\n",
    "# re_date = re.compile(r'\\d+\\.\\d+')\n",
    "re_date = re.compile(r'(\\d+)\\.(\\d+)')\n",
    "re_date.findall(memo_text)"
   ]
  },
  {
   "cell_type": "code",
   "execution_count": 16,
   "metadata": {},
   "outputs": [
    {
     "name": "stdout",
     "output_type": "stream",
     "text": [
      "\n",
      "1月1日 去干嘛\n",
      "1月2日 又去干嘛2\n",
      "1月3日 还去干嘛3\n",
      "1月4日 不知道该干嘛4fe1234\n",
      "1月5日 太多了,不干了5\n",
      "\n"
     ]
    }
   ],
   "source": [
    "re_date.findall(memo_text)\n",
    "print(re_date.sub(r'\\1月\\2日', memo_text))"
   ]
  },
  {
   "cell_type": "markdown",
   "metadata": {},
   "source": [
    "进行正则组命令"
   ]
  },
  {
   "cell_type": "code",
   "execution_count": 17,
   "metadata": {},
   "outputs": [
    {
     "name": "stdout",
     "output_type": "stream",
     "text": [
      "\n",
      "1月1日 去干嘛\n",
      "1月2日 又去干嘛2\n",
      "1月3日 还去干嘛3\n",
      "1月4日 不知道该干嘛4fe1234\n",
      "1月5日 太多了,不干了5\n",
      "\n"
     ]
    }
   ],
   "source": [
    "re_date = re.compile(r'(?P<month>\\d+)\\.(?P<day>\\d+)')\n",
    "print(re_date.sub(r'\\g<month>月\\g<day>日', memo_text))"
   ]
  },
  {
   "cell_type": "code",
   "execution_count": null,
   "metadata": {},
   "outputs": [],
   "source": []
  },
  {
   "cell_type": "code",
   "execution_count": null,
   "metadata": {},
   "outputs": [],
   "source": []
  },
  {
   "cell_type": "code",
   "execution_count": null,
   "metadata": {},
   "outputs": [],
   "source": []
  }
 ],
 "metadata": {
  "kernelspec": {
   "display_name": "Python 3",
   "language": "python",
   "name": "python3"
  },
  "language_info": {
   "codemirror_mode": {
    "name": "ipython",
    "version": 3
   },
   "file_extension": ".py",
   "mimetype": "text/x-python",
   "name": "python",
   "nbconvert_exporter": "python",
   "pygments_lexer": "ipython3",
   "version": "3.7.1"
  }
 },
 "nbformat": 4,
 "nbformat_minor": 2
}
