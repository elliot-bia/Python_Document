{
 "cells": [
  {
   "cell_type": "markdown",
   "metadata": {},
   "source": [
    "# 2.6.3 分组匹配"
   ]
  },
  {
   "cell_type": "code",
   "execution_count": 1,
   "metadata": {},
   "outputs": [],
   "source": [
    "import re\n",
    "regex = re.compile(r'elliot')  # r raw, 原始的  # 一般compile后面接的就是正则表达式\n"
   ]
  },
  {
   "cell_type": "code",
   "execution_count": 9,
   "metadata": {},
   "outputs": [],
   "source": [
    "import re\n",
    "regex = re.compile(r'elliot')  # r raw, 原始的  # 一般compile后面接的就是正则表达式\n",
    "regex.findall?"
   ]
  },
  {
   "cell_type": "code",
   "execution_count": 10,
   "metadata": {},
   "outputs": [
    {
     "data": {
      "text/plain": [
       "['elliot', 'elliot']"
      ]
     },
     "execution_count": 10,
     "metadata": {},
     "output_type": "execute_result"
    }
   ],
   "source": [
    "regex.findall('fjwaieelliotofeawtelliotfwea')"
   ]
  },
  {
   "cell_type": "code",
   "execution_count": 11,
   "metadata": {},
   "outputs": [
    {
     "data": {
      "text/plain": [
       "['fjwaie', 'ofeawt', 'fwea']"
      ]
     },
     "execution_count": 11,
     "metadata": {},
     "output_type": "execute_result"
    }
   ],
   "source": [
    "regex.split('fjwaieelliotofeawtelliotfwea')"
   ]
  },
  {
   "cell_type": "code",
   "execution_count": 12,
   "metadata": {},
   "outputs": [
    {
     "data": {
      "text/plain": [
       "['fjwaie', 'elliot', 'ofeawt', 'elliot', 'fwea']"
      ]
     },
     "execution_count": 12,
     "metadata": {},
     "output_type": "execute_result"
    }
   ],
   "source": [
    "import re\n",
    "regex = re.compile(r'(elliot)') \n",
    "regex.split('fjwaieelliotofeawtelliotfwea')    "
   ]
  },
  {
   "cell_type": "code",
   "execution_count": 19,
   "metadata": {},
   "outputs": [
    {
     "data": {
      "text/plain": [
       "<re.Match object; span=(0, 11), match='999.888.9.4'>"
      ]
     },
     "execution_count": 19,
     "metadata": {},
     "output_type": "execute_result"
    }
   ],
   "source": [
    "regex = re.compile(r'(\\d{1,3}\\.){3}\\d{1,3}')\n",
    "regex.match('1.2.3.4')\n",
    "regex.match('999.888.9.4')"
   ]
  },
  {
   "cell_type": "code",
   "execution_count": 23,
   "metadata": {},
   "outputs": [
    {
     "name": "stdout",
     "output_type": "stream",
     "text": [
      "192.168.1.1\n"
     ]
    }
   ],
   "source": [
    "re_ip = re.compile(r\"\"\"\n",
    "    ((2[0-4]\\d|25[0-5]|[01]?\\d\\d?)\\.)  # ip的第一组数字, 包含了200-249, 250-255, 0-199的数字\n",
    "    {3}                                # 可以有三个\n",
    "    (2[0-4]\\d|25[0-5]|[01]?\\d\\d?)      # 最后一组\n",
    "    \"\"\", re.X)                         # 正则表达式, 可以进行换行, 加注释\n",
    "match = re_ip.match('192.168.1.1')\n",
    "print(match.group())"
   ]
  },
  {
   "cell_type": "markdown",
   "metadata": {},
   "source": [
    "# 贪婪匹配"
   ]
  },
  {
   "cell_type": "code",
   "execution_count": 3,
   "metadata": {},
   "outputs": [
    {
     "name": "stdout",
     "output_type": "stream",
     "text": [
      "['no. ad']\n",
      "['no. ad\", and phose \"saye. eya']\n"
     ]
    }
   ],
   "source": [
    "# 只匹配双引号中的内容(包括引号)\n",
    "import re\n",
    "re_quote = re.compile(r'\"(.*)\"')\n",
    "text1 = 'Computer says \"no. ad\"'\n",
    "find1 = re_quote.findall(text1)\n",
    "print(find1)\n",
    "text2 = 'Computer says \"no. ad\", and phose \"saye. eya\". '\n",
    "find2 = re_quote.findall(text2)\n",
    "print(find2)"
   ]
  },
  {
   "cell_type": "code",
   "execution_count": 4,
   "metadata": {},
   "outputs": [
    {
     "name": "stdout",
     "output_type": "stream",
     "text": [
      "['no. ad']\n",
      "['no. ad', 'saye. eya']\n"
     ]
    }
   ],
   "source": [
    "import re\n",
    "re_quote = re.compile(r'\"(.*?)\"')\n",
    "text1 = 'Computer says \"no. ad\"'\n",
    "find1 = re_quote.findall(text1)\n",
    "print(find1)\n",
    "text2 = 'Computer says \"no. ad\", and phose \"saye. eya\". '\n",
    "find2 = re_quote.findall(text2)\n",
    "print(find2)"
   ]
  },
  {
   "cell_type": "code",
   "execution_count": null,
   "metadata": {},
   "outputs": [],
   "source": []
  },
  {
   "cell_type": "code",
   "execution_count": null,
   "metadata": {},
   "outputs": [],
   "source": []
  },
  {
   "cell_type": "code",
   "execution_count": null,
   "metadata": {},
   "outputs": [],
   "source": []
  }
 ],
 "metadata": {
  "kernelspec": {
   "display_name": "Python 3",
   "language": "python",
   "name": "python3"
  },
  "language_info": {
   "codemirror_mode": {
    "name": "ipython",
    "version": 3
   },
   "file_extension": ".py",
   "mimetype": "text/x-python",
   "name": "python",
   "nbconvert_exporter": "python",
   "pygments_lexer": "ipython3",
   "version": "3.7.3"
  }
 },
 "nbformat": 4,
 "nbformat_minor": 2
}
