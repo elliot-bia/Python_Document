{
 "cells": [
  {
   "cell_type": "markdown",
   "metadata": {},
   "source": [
    "# 51备忘录v0.27"
   ]
  },
  {
   "cell_type": "code",
   "execution_count": 2,
   "metadata": {},
   "outputs": [
    {
     "data": {
      "text/plain": [
       "['有3人', '有4人', '有3人', '有5人']"
      ]
     },
     "execution_count": 2,
     "metadata": {},
     "output_type": "execute_result"
    }
   ],
   "source": [
    "data = '''\n",
    "* 4.1日, 共有3人面试, 手机号分别是13078119990, 13078119990, 13078119990\n",
    "* 4.2日, 共有4人面试, 手机号分别是13078119990, 13078119990, 13078119990\n",
    "* 4.1日, 共有3人面试, 手机号分别是13078119990, 13078119990, 13078119990\n",
    "* 4.1日, 共有5人面试, 手机号分别是13078119990, 13078119990, 13078119990\n",
    "'''\n",
    "import re \n",
    "re_people = re.compile(r'有\\d+人')\n",
    "re_people.findall(data)"
   ]
  },
  {
   "cell_type": "code",
   "execution_count": 3,
   "metadata": {},
   "outputs": [
    {
     "data": {
      "text/plain": [
       "['3', '4', '3', '5']"
      ]
     },
     "execution_count": 3,
     "metadata": {},
     "output_type": "execute_result"
    }
   ],
   "source": [
    "re_people = re.compile(r'有(\\d+)人')\n",
    "re_people.findall(data)"
   ]
  },
  {
   "cell_type": "code",
   "execution_count": null,
   "metadata": {},
   "outputs": [],
   "source": []
  }
 ],
 "metadata": {
  "kernelspec": {
   "display_name": "Python 3",
   "language": "python",
   "name": "python3"
  },
  "language_info": {
   "codemirror_mode": {
    "name": "ipython",
    "version": 3
   },
   "file_extension": ".py",
   "mimetype": "text/x-python",
   "name": "python",
   "nbconvert_exporter": "python",
   "pygments_lexer": "ipython3",
   "version": "3.7.3"
  }
 },
 "nbformat": 4,
 "nbformat_minor": 2
}
