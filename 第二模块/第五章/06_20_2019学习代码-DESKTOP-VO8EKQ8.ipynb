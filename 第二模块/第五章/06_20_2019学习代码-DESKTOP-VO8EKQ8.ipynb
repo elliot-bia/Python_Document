{
 "cells": [
  {
   "cell_type": "code",
   "execution_count": null,
   "metadata": {},
   "outputs": [],
   "source": [
    "import base64\n",
    "\n",
    "def custom_pwd(count=8):\n",
    "    \"\"\"生成自定义密码，长度为count\"\"\"\n",
    "    origin_pwd = input('输入初始密码')\n",
    "    new_pwd = base64.b64encode(origin_pwd.encode('utf-8'))\n",
    "    new_pwd = new_pwd.decode('utf-8')\n",
    "    if len(new_pwd) < count:\n",
    "        new_pwd = new_pwd.ljust(count, 'a')\n",
    "        5\n",
    "    return new_pwd\n",
    "\n",
    "print('生成密码：', custom_pwd(8))"
   ]
  },
  {
   "cell_type": "code",
   "execution_count": 4,
   "metadata": {},
   "outputs": [
    {
     "name": "stdout",
     "output_type": "stream",
     "text": [
      "生成密码： YWE=aaaa\n"
     ]
    }
   ],
   "source": [
    "import base64\n",
    "\n",
    "def custom_pwd(origin_pwd, count=8):\n",
    "    \"\"\"通过给定原始密码，生成自定义密码，默认长度为count=8\"\"\"\n",
    "#     origin_pwd = input('输入初始密码：')\n",
    "    new_pwd = base64.b64encode(origin_pwd.encode('utf-8'))\n",
    "    new_pwd = new_pwd.decode('utf-8')\n",
    "    if len(new_pwd) < count:\n",
    "        new_pwd = new_pwd.ljust(count, 'a')\n",
    "        \n",
    "    return new_pwd[:count]\n",
    "\n",
    "print('生成密码：', custom_pwd('aa'))"
   ]
  },
  {
   "cell_type": "code",
   "execution_count": 10,
   "metadata": {},
   "outputs": [
    {
     "name": "stdout",
     "output_type": "stream",
     "text": [
      "before salt: asdfweaf\n",
      "after salt: YXNkZndlYWZFbGxpb3Q=\n",
      "生成密码: kZndlYWZ\n"
     ]
    }
   ],
   "source": [
    "import base64\n",
    "\n",
    "def custom_pwd(origin_pwd, salt='Elliot', count=8):\n",
    "    \"\"\"加盐参数\"\"\"\n",
    "    print('before salt:', origin_pwd)\n",
    "    new_pwd = base64.b64encode((origin_pwd + salt).encode('utf-8'))\n",
    "    new_pwd = new_pwd.decode('utf-8')\n",
    "    print('after salt:', new_pwd)\n",
    "    if len(new_pwd) < count:\n",
    "        new_pwd = new_pwd.ljust(count, 'a')\n",
    "        \n",
    "    return new_pwd[3 : count + 3]\n",
    "\n",
    "print('生成密码:', custom_pwd('asdfweaf'))\n",
    "        "
   ]
  },
  {
   "cell_type": "code",
   "execution_count": 7,
   "metadata": {},
   "outputs": [
    {
     "name": "stdout",
     "output_type": "stream",
     "text": [
      "Object `new_pwd.ljust` not found.\n"
     ]
    }
   ],
   "source": [
    "new_pwd.ljust?"
   ]
  },
  {
   "cell_type": "code",
   "execution_count": null,
   "metadata": {},
   "outputs": [],
   "source": []
  },
  {
   "cell_type": "code",
   "execution_count": null,
   "metadata": {},
   "outputs": [],
   "source": []
  }
 ],
 "metadata": {
  "kernelspec": {
   "display_name": "Python 3",
   "language": "python",
   "name": "python3"
  },
  "language_info": {
   "codemirror_mode": {
    "name": "ipython",
    "version": 3
   },
   "file_extension": ".py",
   "mimetype": "text/x-python",
   "name": "python",
   "nbconvert_exporter": "python",
   "pygments_lexer": "ipython3",
   "version": "3.7.3"
  }
 },
 "nbformat": 4,
 "nbformat_minor": 2
}
