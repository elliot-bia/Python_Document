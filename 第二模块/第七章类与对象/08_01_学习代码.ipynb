{
 "cells": [
  {
   "cell_type": "markdown",
   "metadata": {},
   "source": [
    "# 聊天机器人+文件操作"
   ]
  },
  {
   "cell_type": "code",
   "execution_count": 3,
   "metadata": {},
   "outputs": [
    {
     "name": "stdout",
     "output_type": "stream",
     "text": [
      "早\n"
     ]
    }
   ],
   "source": [
    "# 准备语料库\n",
    "\n",
    "data = {\n",
    "    '早上好':'早',\n",
    "    '天气怎么样':'可能会下雨',\n",
    "    'python学的怎么样':'一般般, 还得加吧劲'\n",
    "}\n",
    "\n",
    "def read_data(str_from):\n",
    "    if str_from in data:\n",
    "        print(data[str_from])\n",
    "        \n",
    "read_data('早上好')"
   ]
  },
  {
   "cell_type": "markdown",
   "metadata": {},
   "source": [
    "更新语料库"
   ]
  },
  {
   "cell_type": "code",
   "execution_count": 4,
   "metadata": {},
   "outputs": [
    {
     "name": "stdout",
     "output_type": "stream",
     "text": [
      "{'早上好': '早', '天气怎么样': '可能会下雨', 'python学的怎么样': '一般般, 还得加吧劲', 'morning': 'morning啊'}\n"
     ]
    }
   ],
   "source": [
    "def update_data(dic):\n",
    "    data.update(dic)\n",
    "    \n",
    "update_data({'morning':'morning啊'})\n",
    "print(data)"
   ]
  },
  {
   "cell_type": "code",
   "execution_count": null,
   "metadata": {},
   "outputs": [],
   "source": []
  },
  {
   "cell_type": "code",
   "execution_count": 8,
   "metadata": {},
   "outputs": [],
   "source": [
    "import pickle\n",
    "with open('db.pkl', 'wb') as f:\n",
    "    f.write(pickle.dumps(data))"
   ]
  },
  {
   "cell_type": "code",
   "execution_count": 10,
   "metadata": {},
   "outputs": [
    {
     "name": "stdout",
     "output_type": "stream",
     "text": [
      "{'早上好': '早', '天气怎么样': '可能会下雨', 'python学的怎么样': '一般般, 还得加吧劲', 'morning': 'morning啊'}\n"
     ]
    }
   ],
   "source": [
    "with open('db.pkl', 'rb') as f:\n",
    "    data1 = pickle.loads(f.read())\n",
    "    \n",
    "print(data1)"
   ]
  },
  {
   "cell_type": "code",
   "execution_count": null,
   "metadata": {},
   "outputs": [],
   "source": [
    "#  初步规划\n",
    "class RobotUI:\n",
    "    '''机器人ui'''\n",
    "    def __init__(self, name):\n",
    "        self.name = name\n",
    "        \n",
    "    def talk(self):\n",
    "        '聊天功能'\n",
    "        pass\n",
    "    \n",
    "class RobotAdmin:\n",
    "    'none'\n",
    "    def __init__(self):\n",
    "        pass\n",
    "    \n",
    "    def answer(self, listen):\n",
    "        'TODO answer someting from listen'\n",
    "        return"
   ]
  },
  {
   "cell_type": "code",
   "execution_count": 11,
   "metadata": {},
   "outputs": [
    {
     "name": "stdout",
     "output_type": "stream",
     "text": [
      "{'早上好': '早', '天气怎么样': '可能会下雨', 'python学的怎么样': '一般般, 还得加吧劲', 'morning': 'morning啊'}\n",
      "hello, I'm robot小e\n",
      "YOU:早上好\n",
      "小e:早\n"
     ]
    }
   ],
   "source": [
    "\n",
    "class RobotUI:\n",
    "    '''机器人ui'''\n",
    "    def __init__(self, name, admin):\n",
    "        self.name = name\n",
    "        self.admin = admin\n",
    "        \n",
    "    def talk(self):\n",
    "        '聊天功能'\n",
    "        self.welcome()\n",
    "        words = input('YOU:')\n",
    "        answer = admin.answer(words)\n",
    "        print(f'{self.name}:{answer}')\n",
    "        \n",
    "    def welcome(self):\n",
    "        print(f'hello, I\\'m robot{self.name}')\n",
    "    \n",
    "class RobotAdmin:\n",
    "    'none'\n",
    "    def __init__(self):\n",
    "        self.data = self.load_data()\n",
    "        \n",
    "    def load_data(self):\n",
    "        with open('db.pkl', 'rb') as f:\n",
    "            date = pickle.loads(f.read())\n",
    "            print(data)\n",
    "            return data\n",
    "        \n",
    "    def answer(self, listen):\n",
    "        if listen in self.data:\n",
    "            return self.data[listen]\n",
    "\n",
    "admin = RobotAdmin()\n",
    "robot = RobotUI('小e', admin)\n",
    "robot.talk()"
   ]
  },
  {
   "cell_type": "code",
   "execution_count": null,
   "metadata": {},
   "outputs": [],
   "source": []
  },
  {
   "cell_type": "code",
   "execution_count": 1,
   "metadata": {},
   "outputs": [
    {
     "name": "stdout",
     "output_type": "stream",
     "text": [
      "python\n",
      "python and django\n"
     ]
    }
   ],
   "source": [
    "class Book(object):\n",
    "\n",
    "    def __init__(self, title):\n",
    "        self.title = title\n",
    "\n",
    "    @classmethod\n",
    "    def create(cls, title):\n",
    "        book = cls(title=title)\n",
    "        return book\n",
    "\n",
    "book1 = Book(\"python\")\n",
    "book2 = Book.create(\"python and django\")\n",
    "print(book1.title)\n",
    "print(book2.title)"
   ]
  },
  {
   "cell_type": "code",
   "execution_count": null,
   "metadata": {},
   "outputs": [],
   "source": []
  }
 ],
 "metadata": {
  "kernelspec": {
   "display_name": "Python 3",
   "language": "python",
   "name": "python3"
  },
  "language_info": {
   "codemirror_mode": {
    "name": "ipython",
    "version": 3
   },
   "file_extension": ".py",
   "mimetype": "text/x-python",
   "name": "python",
   "nbconvert_exporter": "python",
   "pygments_lexer": "ipython3",
   "version": "3.7.3"
  }
 },
 "nbformat": 4,
 "nbformat_minor": 2
}
