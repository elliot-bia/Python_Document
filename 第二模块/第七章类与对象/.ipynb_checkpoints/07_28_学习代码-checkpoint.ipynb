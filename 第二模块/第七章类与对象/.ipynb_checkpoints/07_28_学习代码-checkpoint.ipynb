{
 "cells": [
  {
   "cell_type": "code",
   "execution_count": null,
   "metadata": {},
   "outputs": [],
   "source": [
    "class Car:\n",
    "    name = 'xxx'\n",
    "    def __init__(self, brand, price, wheels, power):\n",
    "        self._brand = brand  # 内部变量\n",
    "        self.price = price\n",
    "        self.wheels = wheels\n",
    "        self.power = power\n",
    "        self.__speed = 0\n",
    "    def run(self, action):\n",
    "        print(f'{self.brand} is running')\n",
    "        if action == '1':\n",
    "            self.__speed += 1 * 10  # 修改私有变量\n",
    "            print('当前速度是: {} km/h'.format(self.__speed))\n",
    "            \n",
    "    def start(self):\n",
    "        print(f'{self.brand} is on')\n",
    "        \n",
    "    @property\n",
    "    def speed(self):  # 只读, getter方法\n",
    "        return self.__speed\n",
    "    \n",
    "    @property\n",
    "    def brand(self, brand):\n",
    "        "
   ]
  }
 ],
 "metadata": {
  "kernelspec": {
   "display_name": "Python 3",
   "language": "python",
   "name": "python3"
  },
  "language_info": {
   "codemirror_mode": {
    "name": "ipython",
    "version": 3
   },
   "file_extension": ".py",
   "mimetype": "text/x-python",
   "name": "python",
   "nbconvert_exporter": "python",
   "pygments_lexer": "ipython3",
   "version": "3.7.1"
  }
 },
 "nbformat": 4,
 "nbformat_minor": 2
}
